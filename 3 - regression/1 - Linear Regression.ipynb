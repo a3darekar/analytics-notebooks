{
 "cells": [
  {
   "cell_type": "markdown",
   "metadata": {},
   "source": [
    "# Linear Regression\n",
    "\n",
    "In statistics, linear regression is a linear approach to modeling the relationship between a scalar response and one or more explanatory variables.\n",
    "Linear regression is fitting a line to represent set of obeservations.\n",
    "\n",
    "To perform this, we use method called least squares or Ordinary least squares (OLS).  \n",
    "\n",
    "    By the principle of least squares: minimizing the sum of the squares of the differences between the \n",
    "    observed dependent variable (values of the variable being predicted) in the given dataset and those \n",
    "    predicted by the linear function.\n",
    "    \n",
    "    For the equation of slope intercept of the line, `y = mx + b`\n",
    "                \n",
    "                 (corelation between two variables) X (standard deviation of x)\n",
    "    slope `m` = --------------------------------------------------------------\n",
    "                                     (standard deviation of y)"
   ]
  },
  {
   "cell_type": "markdown",
   "metadata": {},
   "source": [
    "### Enough Explanation, lets learn by example!\n",
    "\n",
    "firstly we will fabricate some data that shows a roguhly linear relationship between amount spent on marketing  of a product and its respective sales."
   ]
  },
  {
   "cell_type": "code",
   "execution_count": 1,
   "metadata": {},
   "outputs": [
    {
     "name": "stdout",
     "output_type": "stream",
     "text": [
      "(40, 1)\n",
      "(40, 1)\n"
     ]
    }
   ],
   "source": [
    "import numpy as np\n",
    "import matplotlib.pyplot as plt \n",
    "\n",
    "%matplotlib inline\n",
    "\n",
    "datapoints = 40\n",
    "\n",
    "marketing = np.linspace(50, 50000, datapoints)[:, np.newaxis]\n",
    "sales = np.sin(marketing) + 0.1*np.power(marketing,2) + 0.5*np.random.randn(datapoints,1)\n",
    "print(marketing.shape)\n",
    "print(sales.shape)"
   ]
  },
  {
   "cell_type": "code",
   "execution_count": 2,
   "metadata": {},
   "outputs": [
    {
     "data": {
      "image/png": "[encoded data removed]",
      "text/plain": [
       "<Figure size 432x288 with 1 Axes>"
      ]
     },
     "metadata": {
      "needs_background": "light"
     },
     "output_type": "display_data"
    }
   ],
   "source": [
    "plt.scatter(marketing, sales)\n",
    "plt.xlabel('Advertising costs (in thousands)')\n",
    "plt.ylabel('Sales (in thousands)')\n",
    "plt.show()"
   ]
  },
  {
   "cell_type": "markdown",
   "metadata": {},
   "source": [
    "As 'advertising_cost' and 'sales' are numpy array, they are represented as list of lists containing single value.\n",
    "see following output to understand better."
   ]
  },
  {
   "cell_type": "code",
   "execution_count": 3,
   "metadata": {},
   "outputs": [
    {
     "name": "stdout",
     "output_type": "stream",
     "text": [
      "[[   50.        ]\n",
      " [ 1330.76923077]\n",
      " [ 2611.53846154]\n",
      " [ 3892.30769231]\n",
      " [ 5173.07692308]\n",
      " [ 6453.84615385]\n",
      " [ 7734.61538462]\n",
      " [ 9015.38461538]\n",
      " [10296.15384615]\n",
      " [11576.92307692]\n",
      " [12857.69230769]\n",
      " [14138.46153846]\n",
      " [15419.23076923]\n",
      " [16700.        ]\n",
      " [17980.76923077]\n",
      " [19261.53846154]\n",
      " [20542.30769231]\n",
      " [21823.07692308]\n",
      " [23103.84615385]\n",
      " [24384.61538462]\n",
      " [25665.38461538]\n",
      " [26946.15384615]\n",
      " [28226.92307692]\n",
      " [29507.69230769]\n",
      " [30788.46153846]\n",
      " [32069.23076923]\n",
      " [33350.        ]\n",
      " [34630.76923077]\n",
      " [35911.53846154]\n",
      " [37192.30769231]\n",
      " [38473.07692308]\n",
      " [39753.84615385]\n",
      " [41034.61538462]\n",
      " [42315.38461538]\n",
      " [43596.15384615]\n",
      " [44876.92307692]\n",
      " [46157.69230769]\n",
      " [47438.46153846]\n",
      " [48719.23076923]\n",
      " [50000.        ]]\n"
     ]
    }
   ],
   "source": [
    "print(marketing)"
   ]
  },
  {
   "cell_type": "markdown",
   "metadata": {},
   "source": [
    "We need to convert the list of lists into a single list. Here's how we do it."
   ]
  },
  {
   "cell_type": "code",
   "execution_count": 4,
   "metadata": {},
   "outputs": [],
   "source": [
    "marketing = marketing[:,0]\n",
    "sales = sales[:,0]"
   ]
  },
  {
   "cell_type": "markdown",
   "metadata": {},
   "source": [
    "    Now we will print the 'advertising_cost' data again to see the difference"
   ]
  },
  {
   "cell_type": "code",
   "execution_count": 5,
   "metadata": {},
   "outputs": [
    {
     "name": "stdout",
     "output_type": "stream",
     "text": [
      "[   50.          1330.76923077  2611.53846154  3892.30769231\n",
      "  5173.07692308  6453.84615385  7734.61538462  9015.38461538\n",
      " 10296.15384615 11576.92307692 12857.69230769 14138.46153846\n",
      " 15419.23076923 16700.         17980.76923077 19261.53846154\n",
      " 20542.30769231 21823.07692308 23103.84615385 24384.61538462\n",
      " 25665.38461538 26946.15384615 28226.92307692 29507.69230769\n",
      " 30788.46153846 32069.23076923 33350.         34630.76923077\n",
      " 35911.53846154 37192.30769231 38473.07692308 39753.84615385\n",
      " 41034.61538462 42315.38461538 43596.15384615 44876.92307692\n",
      " 46157.69230769 47438.46153846 48719.23076923 50000.        ]\n"
     ]
    }
   ],
   "source": [
    "print(marketing)"
   ]
  },
  {
   "cell_type": "markdown",
   "metadata": {},
   "source": [
    "### Now that our data is ready, we will perform Linear Regression using scipy.stats"
   ]
  },
  {
   "cell_type": "code",
   "execution_count": 6,
   "metadata": {},
   "outputs": [],
   "source": [
    "from scipy import stats\n",
    "\n",
    "slope, intercept, r_value, v_value, std_error = stats.linregress(marketing, sales)"
   ]
  },
  {
   "cell_type": "markdown",
   "metadata": {},
   "source": [
    "### To verify the fit of the regression model we will calulate ` r_squared = r_value ^ 2 `\n",
    "\n",
    "    R-squared is a handy, seemingly intuitive measure of how well your linear model fits a set of observations.\n",
    "\n",
    "    The closer the value of R-squared (represented further as r_squared), the better fit is the resultant regression model."
   ]
  },
  {
   "cell_type": "code",
   "execution_count": 7,
   "metadata": {},
   "outputs": [
    {
     "name": "stdout",
     "output_type": "stream",
     "text": [
      "0.9348636390412326\n"
     ]
    }
   ],
   "source": [
    "r_squared = r_value**2\n",
    "print(r_squared)"
   ]
  },
  {
   "cell_type": "markdown",
   "metadata": {},
   "source": [
    "## Now lets use slope and intercept values generated from regression to plot predicted and observed lines:\n",
    "\n",
    "1. define predict function to determine value of sales based on advertising_costs\n",
    "2. generate the array for predicted model results to represent model prediction line\n",
    "3. plot both subplots together"
   ]
  },
  {
   "cell_type": "code",
   "execution_count": 8,
   "metadata": {},
   "outputs": [
    {
     "data": {
      "image/png": "[encoded data removed]",
      "text/plain": [
       "<Figure size 432x288 with 1 Axes>"
      ]
     },
     "metadata": {
      "needs_background": "light"
     },
     "output_type": "display_data"
    }
   ],
   "source": [
    "def predict(x):\n",
    "    return slope * x + intercept\n",
    "\n",
    "predicted_line = predict(marketing)\n",
    "\n",
    "plt.scatter(marketing, sales)\n",
    "plt.plot(marketing, predicted_line, c='r') # assigning separeate color \n",
    "\n",
    "\n",
    "plt.xlabel('Advertising costs (in thousands)')\n",
    "plt.ylabel('Sales (in thousands)')\n",
    "\n",
    "plt.show()"
   ]
  },
  {
   "cell_type": "markdown",
   "metadata": {},
   "source": [
    "## Lets make another regeression against normally distributed data"
   ]
  },
  {
   "cell_type": "code",
   "execution_count": 9,
   "metadata": {},
   "outputs": [],
   "source": [
    "marketing = np.random.normal(5000, 300, 100)\n",
    "sales = 100 - (marketing + np.random.normal(5000, 1.5, 100)) * 2"
   ]
  },
  {
   "cell_type": "markdown",
   "metadata": {},
   "source": [
    "Here, data is not in the 'list of lists' representation, but is simply list of data points"
   ]
  },
  {
   "cell_type": "code",
   "execution_count": 10,
   "metadata": {},
   "outputs": [
    {
     "name": "stdout",
     "output_type": "stream",
     "text": [
      "[4528.78820028 4921.5024936  4778.69221445 4872.07327048 5258.65779142\n",
      " 5231.0864194  5074.84666601 4988.14230603 4713.05289133 5174.11590227\n",
      " 5130.1825533  5056.61303806 5055.1946669  4462.63991622 4709.0861834\n",
      " 5129.15686571 4916.10780102 4668.49695389 4479.94514244 5259.39254747\n",
      " 5475.75289502 4973.01803008 4946.92602757 5009.70710369 5050.39805224\n",
      " 4549.97807492 4778.03863474 4831.36347888 5070.39995365 4717.24749416\n",
      " 4680.41821516 5129.42070118 5210.71021105 4903.07797563 4662.81221087\n",
      " 5064.00647004 5224.06596546 5291.56511993 4956.38558068 5425.29921889\n",
      " 4567.20314443 5251.05410739 4907.42060664 5019.02307665 4967.25169417\n",
      " 5354.18476763 4887.05435293 5550.32148886 5093.98545992 4934.70658139\n",
      " 5080.32820444 5294.90615733 4960.62627959 4889.25019786 5035.33574853\n",
      " 5384.81370623 4610.75141575 4548.75514765 4843.24640866 4747.29096365\n",
      " 5188.72856452 4986.35576343 4953.41312302 4848.22463391 4978.66861765\n",
      " 4983.79598501 4917.79573568 4763.21774896 5090.04230354 5164.21288729\n",
      " 5075.00506239 5278.49040297 4681.06304817 4637.61192037 5142.58231342\n",
      " 4587.06296183 5386.66547177 5414.51022867 5093.49355594 5305.99556752\n",
      " 5174.45951104 5599.72782408 5038.55095332 4511.46325703 4566.75907975\n",
      " 4770.97116324 4836.86310859 5021.08475667 5158.03407105 5568.78326944\n",
      " 5309.0168721  4980.64796555 5237.08342289 4797.71090581 5125.3508479\n",
      " 5199.80279783 5124.87251352 5218.54525991 4764.3230491  5218.00664401]\n"
     ]
    }
   ],
   "source": [
    "print(marketing)"
   ]
  },
  {
   "cell_type": "markdown",
   "metadata": {},
   "source": [
    "### Lets calculate out regression model and verify the"
   ]
  },
  {
   "cell_type": "code",
   "execution_count": 11,
   "metadata": {},
   "outputs": [
    {
     "name": "stdout",
     "output_type": "stream",
     "text": [
      "0.9999660452291965\n"
     ]
    }
   ],
   "source": [
    "slope, intercept, r_value, v_value, std_error = stats.linregress(marketing, sales)\n",
    "\n",
    "#verifying the fit using R-squared method\n",
    "r_squared = r_value**2\n",
    "print(r_squared)"
   ]
  },
  {
   "cell_type": "markdown",
   "metadata": {},
   "source": [
    "#### Now lets plot the graph!"
   ]
  },
  {
   "cell_type": "code",
   "execution_count": 12,
   "metadata": {},
   "outputs": [
    {
     "data": {
      "image/png": "[encoded data removed]",
      "text/plain": [
       "<Figure size 432x288 with 1 Axes>"
      ]
     },
     "metadata": {
      "needs_background": "light"
     },
     "output_type": "display_data"
    }
   ],
   "source": [
    "predicted_line = predict(marketing)\n",
    "\n",
    "plt.scatter(marketing, sales)\n",
    "plt.plot(marketing, predicted_line, c='r') # assigning separeate color \n",
    "\n",
    "\n",
    "plt.xlabel('Marketing Costs (in thousands)')\n",
    "plt.ylabel('Sales (in thousands)')\n",
    "\n",
    "plt.show()"
   ]
  }
 ],
 "metadata": {
  "kernelspec": {
   "display_name": "Python 3",
   "language": "python",
   "name": "python3"
  },
  "language_info": {
   "codemirror_mode": {
    "name": "ipython",
    "version": 3
   },
   "file_extension": ".py",
   "mimetype": "text/x-python",
   "name": "python",
   "nbconvert_exporter": "python",
   "pygments_lexer": "ipython3",
   "version": "3.7.3"
  }
 },
 "nbformat": 4,
 "nbformat_minor": 2
}
