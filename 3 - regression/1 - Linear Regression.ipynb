{
 "cells": [
  {
   "cell_type": "markdown",
   "metadata": {},
   "source": [
    "# Linear Regression\n",
    "\n",
    "In statistics, linear regression is a linear approach to modeling the relationship between a scalar response and one or more explanatory variables.\n",
    "Linear regression is fitting a line to represent set of obeservations.\n",
    "\n",
    "To perform this, we use method called least squares or Ordinary least squares (OLS).  \n",
    "\n",
    "    By the principle of least squares: minimizing the sum of the squares of the differences between the \n",
    "    observed dependent variable (values of the variable being predicted) in the given dataset and those \n",
    "    predicted by the linear function.\n",
    "    \n",
    "    For the equation of slope intercept of the line, `y = mx + b`\n",
    "                \n",
    "                 (corelation between two variables) X (standard deviation of x)\n",
    "    slope `m` = --------------------------------------------------------------\n",
    "                                     (standard deviation of y)"
   ]
  },
  {
   "cell_type": "markdown",
   "metadata": {},
   "source": [
    "### Enough Explanation, lets learn by example!\n",
    "\n",
    "firstly we will fabricate some data that shows a roguhly linear relationship between amount spent on advertising  of a product and its respective sales."
   ]
  },
  {
   "cell_type": "code",
   "execution_count": 1,
   "metadata": {},
   "outputs": [
    {
     "name": "stdout",
     "output_type": "stream",
     "text": [
      "(40, 1)\n",
      "(40, 1)\n"
     ]
    }
   ],
   "source": [
    "import numpy as np\n",
    "import matplotlib.pyplot as plt \n",
    "\n",
    "datapoints = 40\n",
    "\n",
    "advertising_cost = np.linspace(50, 50000, datapoints)[:, np.newaxis]\n",
    "sales = np.sin(advertising_cost) + 0.1*np.power(advertising_cost,2) + 0.5*np.random.randn(datapoints,1)\n",
    "print(advertising_cost.shape)\n",
    "print(sales.shape)"
   ]
  },
  {
   "cell_type": "code",
   "execution_count": 2,
   "metadata": {},
   "outputs": [
    {
     "data": {
      "image/png": "[encoded data removed]",
      "text/plain": [
       "<Figure size 432x288 with 1 Axes>"
      ]
     },
     "metadata": {
      "needs_background": "light"
     },
     "output_type": "display_data"
    }
   ],
   "source": [
    "plt.scatter(advertising_cost, sales)\n",
    "plt.xlabel('Advertising costs (in thousands)')\n",
    "plt.ylabel('Sales (in thousands)')\n",
    "plt.show()"
   ]
  },
  {
   "cell_type": "markdown",
   "metadata": {},
   "source": [
    "As 'advertising_cost' and 'sales' are numpy array, they are represented as list of lists containing single value.\n",
    "see following output to understand better."
   ]
  },
  {
   "cell_type": "code",
   "execution_count": 3,
   "metadata": {},
   "outputs": [
    {
     "name": "stdout",
     "output_type": "stream",
     "text": [
      "[[   50.        ]\n",
      " [ 1330.76923077]\n",
      " [ 2611.53846154]\n",
      " [ 3892.30769231]\n",
      " [ 5173.07692308]\n",
      " [ 6453.84615385]\n",
      " [ 7734.61538462]\n",
      " [ 9015.38461538]\n",
      " [10296.15384615]\n",
      " [11576.92307692]\n",
      " [12857.69230769]\n",
      " [14138.46153846]\n",
      " [15419.23076923]\n",
      " [16700.        ]\n",
      " [17980.76923077]\n",
      " [19261.53846154]\n",
      " [20542.30769231]\n",
      " [21823.07692308]\n",
      " [23103.84615385]\n",
      " [24384.61538462]\n",
      " [25665.38461538]\n",
      " [26946.15384615]\n",
      " [28226.92307692]\n",
      " [29507.69230769]\n",
      " [30788.46153846]\n",
      " [32069.23076923]\n",
      " [33350.        ]\n",
      " [34630.76923077]\n",
      " [35911.53846154]\n",
      " [37192.30769231]\n",
      " [38473.07692308]\n",
      " [39753.84615385]\n",
      " [41034.61538462]\n",
      " [42315.38461538]\n",
      " [43596.15384615]\n",
      " [44876.92307692]\n",
      " [46157.69230769]\n",
      " [47438.46153846]\n",
      " [48719.23076923]\n",
      " [50000.        ]]\n"
     ]
    }
   ],
   "source": [
    "print(advertising_cost)"
   ]
  },
  {
   "cell_type": "markdown",
   "metadata": {},
   "source": [
    "We need to convert the list of lists into a single list. Here's how we do it."
   ]
  },
  {
   "cell_type": "code",
   "execution_count": 4,
   "metadata": {},
   "outputs": [],
   "source": [
    "advertising_cost = advertising_cost[:,0]\n",
    "sales = sales[:,0]"
   ]
  },
  {
   "cell_type": "markdown",
   "metadata": {},
   "source": [
    "    Now we will print the 'advertising_cost' data again to see the difference"
   ]
  },
  {
   "cell_type": "code",
   "execution_count": 5,
   "metadata": {},
   "outputs": [
    {
     "name": "stdout",
     "output_type": "stream",
     "text": [
      "[   50.          1330.76923077  2611.53846154  3892.30769231\n",
      "  5173.07692308  6453.84615385  7734.61538462  9015.38461538\n",
      " 10296.15384615 11576.92307692 12857.69230769 14138.46153846\n",
      " 15419.23076923 16700.         17980.76923077 19261.53846154\n",
      " 20542.30769231 21823.07692308 23103.84615385 24384.61538462\n",
      " 25665.38461538 26946.15384615 28226.92307692 29507.69230769\n",
      " 30788.46153846 32069.23076923 33350.         34630.76923077\n",
      " 35911.53846154 37192.30769231 38473.07692308 39753.84615385\n",
      " 41034.61538462 42315.38461538 43596.15384615 44876.92307692\n",
      " 46157.69230769 47438.46153846 48719.23076923 50000.        ]\n"
     ]
    }
   ],
   "source": [
    "print(advertising_cost)"
   ]
  },
  {
   "cell_type": "markdown",
   "metadata": {},
   "source": [
    "### Now that our data is ready, we will perform Linear Regression using scipy.stats"
   ]
  },
  {
   "cell_type": "code",
   "execution_count": 6,
   "metadata": {},
   "outputs": [],
   "source": [
    "from scipy import stats\n",
    "\n",
    "slope, intercept, r_value, v_value, std_error = stats.linregress(advertising_cost, sales)"
   ]
  },
  {
   "cell_type": "markdown",
   "metadata": {},
   "source": [
    "### To verify the fit of the regression model we will calulate ` r_squared = r_value ^ 2 `\n",
    "\n",
    "    R-squared is a handy, seemingly intuitive measure of how well your linear model fits a set of observations.\n",
    "\n",
    "    The closer the value of R-squared (represented further as r_squared), the better fit is the resultant regression model."
   ]
  },
  {
   "cell_type": "code",
   "execution_count": 7,
   "metadata": {},
   "outputs": [
    {
     "name": "stdout",
     "output_type": "stream",
     "text": [
      "0.9348636376936016\n"
     ]
    }
   ],
   "source": [
    "r_squared = r_value**2\n",
    "print(r_squared)"
   ]
  },
  {
   "cell_type": "markdown",
   "metadata": {},
   "source": [
    "## Now lets use slope and intercept values generated from regression to plot predicted and observed lines:\n",
    "\n",
    "1. define predict function to determine value of sales based on advertising_costs\n",
    "2. generate the array for predicted model results to represent model prediction line\n",
    "3. plot both subplots together"
   ]
  },
  {
   "cell_type": "code",
   "execution_count": 8,
   "metadata": {},
   "outputs": [
    {
     "data": {
      "image/png": "[encoded data removed]",
      "text/plain": [
       "<Figure size 432x288 with 1 Axes>"
      ]
     },
     "metadata": {
      "needs_background": "light"
     },
     "output_type": "display_data"
    }
   ],
   "source": [
    "def predict(x):\n",
    "    return slope * x + intercept\n",
    "\n",
    "predicted_line = predict(advertising_cost)\n",
    "\n",
    "plt.scatter(advertising_cost, sales)\n",
    "plt.plot(advertising_cost, predicted_line, c='r') # assigning separeate color \n",
    "\n",
    "\n",
    "plt.xlabel('Advertising costs (in thousands)')\n",
    "plt.ylabel('Sales (in thousands)')\n",
    "\n",
    "plt.show()"
   ]
  },
  {
   "cell_type": "markdown",
   "metadata": {},
   "source": [
    "## Lets make another regeression against normally distributed data"
   ]
  },
  {
   "cell_type": "code",
   "execution_count": 9,
   "metadata": {},
   "outputs": [],
   "source": [
    "advertising_cost = np.random.normal(5000, 300, 100)\n",
    "sales = 100 - (advertising_cost + np.random.normal(5000, 1.5, 100)) * 2"
   ]
  },
  {
   "cell_type": "markdown",
   "metadata": {},
   "source": [
    "Here, data is not in the 'list of lists' representation, but is simply list of data points"
   ]
  },
  {
   "cell_type": "code",
   "execution_count": 10,
   "metadata": {},
   "outputs": [
    {
     "name": "stdout",
     "output_type": "stream",
     "text": [
      "[5072.35599589 5150.1873127  4742.191401   5450.35513339 4656.52275921\n",
      " 4819.06769378 4747.82583684 5402.30387315 4857.7798845  4905.25617217\n",
      " 4929.45554305 4945.57248768 4972.77558788 4835.6738781  4825.53655556\n",
      " 4740.28282902 5095.40069583 4937.72401941 5408.29424659 4844.09382069\n",
      " 4789.84827177 4464.90046771 5150.48033917 4649.18383207 4588.95285623\n",
      " 4885.41589991 4716.22282931 4764.96796967 4693.84201756 5034.73181119\n",
      " 5112.22205165 4794.2239328  5185.45550591 4822.47905802 5252.03465434\n",
      " 4984.28361659 4973.67103076 4592.7646172  4683.95005171 4937.56364558\n",
      " 4239.61751936 4861.18503973 4941.22468327 5041.99674171 5102.62203196\n",
      " 5458.42928387 4870.10813381 5299.94593683 4554.83064366 4826.73551467\n",
      " 4574.24621876 4670.51247672 5286.72939891 4962.27139791 5279.17761054\n",
      " 4928.61785294 5466.71099189 4957.28167146 4400.05033125 5145.58798892\n",
      " 5076.51099746 4651.92740555 5378.78687193 4967.2144398  5079.84662785\n",
      " 5374.27628569 4973.83573411 5204.74904547 4708.57094987 4858.55845933\n",
      " 4777.20532893 4574.38519189 4784.99967763 4987.41018805 4785.98282062\n",
      " 5417.31887299 5233.4539085  4857.10316533 4839.54518239 4552.62298775\n",
      " 5354.37860621 4825.50066949 4996.81648807 4667.92523639 4678.60705705\n",
      " 5230.83305731 4986.54363025 4979.16536213 4960.99554081 4846.63309432\n",
      " 5702.67185809 5080.89476545 4823.26799251 5252.58688711 5550.7810626\n",
      " 4866.54173958 5194.18634399 4696.57826248 5233.66579522 5081.26969867]\n"
     ]
    }
   ],
   "source": [
    "print(advertising_cost)"
   ]
  },
  {
   "cell_type": "markdown",
   "metadata": {},
   "source": [
    "### Lets calculate out regression model and verify the"
   ]
  },
  {
   "cell_type": "code",
   "execution_count": 11,
   "metadata": {},
   "outputs": [
    {
     "name": "stdout",
     "output_type": "stream",
     "text": [
      "0.999972092178982\n"
     ]
    }
   ],
   "source": [
    "slope, intercept, r_value, v_value, std_error = stats.linregress(advertising_cost, sales)\n",
    "\n",
    "#verifying the fit using R-squared method\n",
    "r_squared = r_value**2\n",
    "print(r_squared)"
   ]
  },
  {
   "cell_type": "markdown",
   "metadata": {},
   "source": [
    "#### Now lets plot the graph!"
   ]
  },
  {
   "cell_type": "code",
   "execution_count": 12,
   "metadata": {},
   "outputs": [
    {
     "data": {
      "image/png": "[encoded data removed]",
      "text/plain": [
       "<Figure size 432x288 with 1 Axes>"
      ]
     },
     "metadata": {
      "needs_background": "light"
     },
     "output_type": "display_data"
    }
   ],
   "source": [
    "predicted_line = predict(advertising_cost)\n",
    "\n",
    "plt.scatter(advertising_cost, sales)\n",
    "plt.plot(advertising_cost, predicted_line, c='r') # assigning separeate color \n",
    "\n",
    "\n",
    "plt.xlabel('Advertising costs (in thousands)')\n",
    "plt.ylabel('Sales (in thousands)')\n",
    "\n",
    "plt.show()"
   ]
  }
 ],
 "metadata": {
  "kernelspec": {
   "display_name": "Python 3",
   "language": "python",
   "name": "python3"
  },
  "language_info": {
   "codemirror_mode": {
    "name": "ipython",
    "version": 3
   },
   "file_extension": ".py",
   "mimetype": "text/x-python",
   "name": "python",
   "nbconvert_exporter": "python",
   "pygments_lexer": "ipython3",
   "version": "3.7.3"
  }
 },
 "nbformat": 4,
 "nbformat_minor": 2
}
