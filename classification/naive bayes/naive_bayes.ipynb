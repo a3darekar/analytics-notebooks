{
 "cells": [
  {
   "cell_type": "markdown",
   "metadata": {},
   "source": [
    "# Naive Bayes Classification\n",
    "\n",
    "## Using \"Pima Indians Dieabetes Database\"\n",
    "\n",
    "#### Here we will se some basic pandas functions and then perform Naive Bayes classification on the formentioned dataset\n",
    "\n",
    "Naive Bayes is a Supervised Machine Learning algorithm based on the Bayes Theorem that is used to solve classification problems by following a probabilistic approach. It is based on the idea that the predictor variables in a Machine Learning model are independent of each other. Meaning that the outcome of a model depends on a set of independent variables that have nothing to do with each other. \n",
    "\n",
    "\n",
    "I.&nbsp; Firstly we will discuss some pandas dataframe functions.  \n",
    "II. We will see some basic operations that can be performed on pandas dataframe.  \n",
    " &nbsp; &nbsp; (If you wish to skip to the Naive-Bayes classification, go to mark 2.1.)"
   ]
  },
  {
   "cell_type": "markdown",
   "metadata": {},
   "source": [
    "#### 1.1 First we will import few necessary packages.  "
   ]
  },
  {
   "cell_type": "code",
   "execution_count": null,
   "metadata": {},
   "outputs": [],
   "source": [
    "import pandas as pd\n",
    "from sklearn.metrics import confusion_matrix\n",
    "from sklearn.naive_bayes import MultinomialNB\n",
    "from sklearn.model_selection import train_test_split"
   ]
  },
  {
   "cell_type": "markdown",
   "metadata": {},
   "source": [
    "#### 1.2 Importing data from CSV to pandas dataframe "
   ]
  },
  {
   "cell_type": "code",
   "execution_count": null,
   "metadata": {},
   "outputs": [],
   "source": [
    "dataset = pd.read_csv('diabetes.csv')"
   ]
  },
  {
   "cell_type": "markdown",
   "metadata": {},
   "source": [
    "#### 1.3 Viewing dataset Statistics"
   ]
  },
  {
   "cell_type": "code",
   "execution_count": null,
   "metadata": {},
   "outputs": [],
   "source": [
    "dataset.describe()"
   ]
  },
  {
   "cell_type": "markdown",
   "metadata": {},
   "source": [
    "#### 1.4 viewing dataset indexes"
   ]
  },
  {
   "cell_type": "code",
   "execution_count": null,
   "metadata": {},
   "outputs": [],
   "source": [
    "dataset.columns"
   ]
  },
  {
   "cell_type": "markdown",
   "metadata": {},
   "source": [
    "#### 1.5 To show first 5 data records use head method of the dataframe class"
   ]
  },
  {
   "cell_type": "code",
   "execution_count": null,
   "metadata": {
    "scrolled": true
   },
   "outputs": [],
   "source": [
    "dataset.head()"
   ]
  },
  {
   "cell_type": "markdown",
   "metadata": {},
   "source": [
    "## 2.0 Naive Bayes Classification\n",
    "\n",
    "### Algorithm \n",
    "1.  Split Dataset into Training and Testing Datasets\n",
    "2.  Train the Naive Bayes Classifier model\n",
    "3.  Test the trained classifier model for Accuracy\n",
    "4.  Measure Accuracy Score and draw Confusion Matrix"
   ]
  },
  {
   "cell_type": "code",
   "execution_count": null,
   "metadata": {},
   "outputs": [],
   "source": [
    "x_train,x_test,y_train,y_test=train_test_split(dataset.drop('Outcome', axis=1),dataset['Outcome'],test_size=.3)"
   ]
  },
  {
   "cell_type": "code",
   "execution_count": null,
   "metadata": {},
   "outputs": [],
   "source": [
    "print(len(x_train))\n",
    "print(len(y_train))\n",
    "print(len(x_test))\n",
    "print(len(y_test))"
   ]
  },
  {
   "cell_type": "code",
   "execution_count": null,
   "metadata": {},
   "outputs": [],
   "source": [
    "classifer = MultinomialNB()\n",
    "classifer.fit(x_train, y_train)\n",
    "\n",
    "predictions = classifer.predict(x_test)\n",
    "len(predictions)"
   ]
  },
  {
   "cell_type": "code",
   "execution_count": null,
   "metadata": {},
   "outputs": [],
   "source": [
    "from sklearn.metrics import accuracy_score\n",
    "print(accuracy_score(y_test,predictions))"
   ]
  },
  {
   "cell_type": "code",
   "execution_count": null,
   "metadata": {},
   "outputs": [],
   "source": [
    "from sklearn.metrics import confusion_matrix\n",
    "confusion_matrix(y_test, predictions)"
   ]
  },
  {
   "cell_type": "markdown",
   "metadata": {},
   "source": [
    "# Some more examples of classifiers\n",
    "\n",
    "from sklearn import tree, neighbors  \n",
    "\n",
    "from sklearn.naive_bayes import GaussianNB  \n",
    "\n",
    "classifier=GaussianNB()  \n",
    "classifier.fit(x_train,y_train)  \n",
    "predictions=classifier.predict(x_test)  \n",
    "print(accuracy_score(y_test,predictions))  \n",
    "\n",
    "classifier=tree.DecisionTreeClassifier()  \n",
    "classifier.fit(x_train,y_train)  \n",
    "predictions=classifier.predict(x_test)  \n",
    "print(accuracy_score(y_test,predictions))  \n",
    "\n",
    "\n",
    "classifier=neighbors.KNeighborsClassifier()  \n",
    "classifier.fit(x_train,y_train)  \n",
    "predictions=classifier.predict(x_test)  \n",
    "print(accuracy_score(y_test,predictions))  "
   ]
  }
 ],
 "metadata": {
  "kernelspec": {
   "display_name": "Python 3",
   "language": "python",
   "name": "python3"
  },
  "language_info": {
   "codemirror_mode": {
    "name": "ipython",
    "version": 3
   },
   "file_extension": ".py",
   "mimetype": "text/x-python",
   "name": "python",
   "nbconvert_exporter": "python",
   "pygments_lexer": "ipython3",
   "version": "3.7.3"
  }
 },
 "nbformat": 4,
 "nbformat_minor": 2
}
