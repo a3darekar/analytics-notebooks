{
 "cells": [
  {
   "cell_type": "markdown",
   "metadata": {},
   "source": [
    "# Introducing NumPy and calculating mean, median and mode"
   ]
  },
  {
   "cell_type": "markdown",
   "metadata": {},
   "source": [
    "## Mean vs. Median"
   ]
  },
  {
   "cell_type": "markdown",
   "metadata": {},
   "source": [
    "Let's create some fake income data, centered around 30,000 with a normal distribution and standard deviation of 10,000, with 10,000 data points. (We'll discuss those terms more later, if you're not familiar with them.)\n",
    "\n",
    "Then, compute the mean (average) - it should be close to 30,000:"
   ]
  },
  {
   "cell_type": "code",
   "execution_count": 1,
   "metadata": {},
   "outputs": [
    {
     "data": {
      "text/plain": [
       "30055.97112684134"
      ]
     },
     "execution_count": 1,
     "metadata": {},
     "output_type": "execute_result"
    }
   ],
   "source": [
    "import numpy as np\n",
    "\n",
    "incomes = np.random.normal(30000, 10000, 10000)\n",
    "np.mean(incomes)"
   ]
  },
  {
   "cell_type": "markdown",
   "metadata": {},
   "source": [
    "We can segment the income data into 50 buckets, and plot it as a histogram:"
   ]
  },
  {
   "cell_type": "code",
   "execution_count": 2,
   "metadata": {
    "scrolled": true
   },
   "outputs": [
    {
     "data": {
      "image/png": "[encoded data removed]",
      "text/plain": [
       "<Figure size 432x288 with 1 Axes>"
      ]
     },
     "metadata": {
      "needs_background": "light"
     },
     "output_type": "display_data"
    }
   ],
   "source": [
    "%matplotlib inline\n",
    "import matplotlib.pyplot as plt\n",
    "plt.hist(incomes, 50)\n",
    "plt.show()"
   ]
  },
  {
   "cell_type": "markdown",
   "metadata": {},
   "source": [
    "## Median\n",
    "\n",
    "Now we will compute the median. Since we have an even distribution it too should be close to 30,000:"
   ]
  },
  {
   "cell_type": "code",
   "execution_count": 3,
   "metadata": {},
   "outputs": [
    {
     "data": {
      "text/plain": [
       "30137.63357767911"
      ]
     },
     "execution_count": 3,
     "metadata": {},
     "output_type": "execute_result"
    }
   ],
   "source": [
    "np.median(incomes)"
   ]
  },
  {
   "cell_type": "markdown",
   "metadata": {},
   "source": [
    "## Mode"
   ]
  },
  {
   "cell_type": "markdown",
   "metadata": {},
   "source": [
    "Next, let's generate some fake age data for 200 people:"
   ]
  },
  {
   "cell_type": "code",
   "execution_count": 4,
   "metadata": {},
   "outputs": [
    {
     "data": {
      "text/plain": [
       "array([38, 65, 51, 49, 37, 33, 55, 29, 28, 65, 71, 21, 35, 22, 73, 62, 23,\n",
       "       77, 73, 44, 76, 26, 66, 79, 20, 85, 33, 66, 31, 89, 46, 35, 25, 44,\n",
       "       64, 81, 86, 33, 20, 35, 74, 23, 25, 45, 64, 43, 70, 58, 35, 62, 43,\n",
       "       71, 59, 80, 65, 65, 81, 64, 82, 23, 18, 81, 85, 26, 54, 70, 33, 70,\n",
       "       75, 61, 46, 89, 88, 65, 68, 78, 83, 63, 80, 40, 63, 21, 65, 19, 84,\n",
       "       30, 32, 21, 83, 73, 68, 57, 87, 67, 88, 52, 30, 44, 67, 60, 29, 82,\n",
       "       62, 23, 30, 48, 31, 66, 80, 35, 50, 73, 29, 55, 63, 30, 28, 40, 35,\n",
       "       76, 70, 74, 20, 78, 67, 76, 67, 79, 45, 86, 61, 85, 81, 39, 23, 42,\n",
       "       78, 87, 27, 22, 22, 56, 37, 36, 80, 64, 31, 66, 48, 64, 52, 30, 48,\n",
       "       67, 31, 86, 73, 29, 68, 66, 44, 44, 34, 43, 29, 81, 31, 89, 52, 33,\n",
       "       81, 76, 72, 61, 29, 86, 72, 78, 61, 68, 52, 23, 88, 57, 65, 40, 47,\n",
       "       47, 63, 65, 18, 84, 43, 46, 38, 67, 46, 21, 23, 45])"
      ]
     },
     "execution_count": 4,
     "metadata": {},
     "output_type": "execute_result"
    }
   ],
   "source": [
    "ages = np.random.randint(18, high=90, size=200)\n",
    "ages"
   ]
  },
  {
   "cell_type": "code",
   "execution_count": 5,
   "metadata": {},
   "outputs": [
    {
     "data": {
      "text/plain": [
       "ModeResult(mode=array([65]), count=array([8]))"
      ]
     },
     "execution_count": 5,
     "metadata": {},
     "output_type": "execute_result"
    }
   ],
   "source": [
    "from scipy import stats\n",
    "stats.mode(ages)"
   ]
  }
 ],
 "metadata": {
  "kernelspec": {
   "display_name": "Python 2",
   "language": "python",
   "name": "python2"
  },
  "language_info": {
   "codemirror_mode": {
    "name": "ipython",
    "version": 2
   },
   "file_extension": ".py",
   "mimetype": "text/x-python",
   "name": "python",
   "nbconvert_exporter": "python",
   "pygments_lexer": "ipython2",
   "version": "2.7.16"
  }
 },
 "nbformat": 4,
 "nbformat_minor": 1
}
